{
 "cells": [
  {
   "cell_type": "code",
   "execution_count": 1,
   "metadata": {},
   "outputs": [],
   "source": [
    "from nltk import sent_tokenize, word_tokenize, pos_tag, FreqDist"
   ]
  },
  {
   "cell_type": "code",
   "execution_count": 2,
   "metadata": {},
   "outputs": [],
   "source": [
    "text = open('europarl-v7.de-en.en', 'r', encoding='utf8').read()"
   ]
  },
  {
   "cell_type": "code",
   "execution_count": 4,
   "metadata": {},
   "outputs": [],
   "source": [
    "sents = sent_tokenize(text)"
   ]
  },
  {
   "cell_type": "code",
   "execution_count": 6,
   "metadata": {},
   "outputs": [],
   "source": [
    "words = [word_tokenize(sent) for sent in sents]"
   ]
  },
  {
   "cell_type": "code",
   "execution_count": 8,
   "metadata": {},
   "outputs": [],
   "source": [
    "tagged_words = [pos_tag(sent) for sent in words]"
   ]
  },
  {
   "cell_type": "code",
   "execution_count": 11,
   "metadata": {},
   "outputs": [
    {
     "name": "stdout",
     "output_type": "stream",
     "text": [
      "[('Resumption', 'NN'), ('of', 'IN'), ('the', 'DT'), ('session', 'NN'), ('I', 'PRP'), ('declare', 'VBP'), ('resumed', 'VBD'), ('the', 'DT'), ('session', 'NN'), ('of', 'IN'), ('the', 'DT'), ('European', 'NNP'), ('Parliament', 'NNP'), ('adjourned', 'VBD'), ('on', 'IN'), ('Friday', 'NNP'), ('17', 'CD'), ('December', 'NNP'), ('1999', 'CD'), (',', ','), ('and', 'CC'), ('I', 'PRP'), ('would', 'MD'), ('like', 'VB'), ('once', 'RB'), ('again', 'RB'), ('to', 'TO'), ('wish', 'VB'), ('you', 'PRP'), ('a', 'DT'), ('happy', 'JJ'), ('new', 'JJ'), ('year', 'NN'), ('in', 'IN'), ('the', 'DT'), ('hope', 'NN'), ('that', 'IN'), ('you', 'PRP'), ('enjoyed', 'VBP'), ('a', 'DT'), ('pleasant', 'JJ'), ('festive', 'JJ'), ('period', 'NN'), ('.', '.')]\n"
     ]
    }
   ],
   "source": [
    "print(tagged_words[0])"
   ]
  },
  {
   "cell_type": "code",
   "execution_count": 20,
   "metadata": {},
   "outputs": [],
   "source": [
    "tagged_content_words = [[tpl for tpl in sent if tpl[1].startswith('NN') or tpl[1].startswith('V') or tpl[1].startswith('ADJ')] for sent in tagged_words]"
   ]
  },
  {
   "cell_type": "code",
   "execution_count": 35,
   "metadata": {},
   "outputs": [
    {
     "name": "stdout",
     "output_type": "stream",
     "text": [
      "[('Although', 'IN'), (',', ','), ('as', 'IN'), ('you', 'PRP'), ('will', 'MD'), ('have', 'VB'), ('seen', 'VBN'), (',', ','), ('the', 'DT'), ('dreaded', 'JJ'), (\"'millennium\", 'NN'), ('bug', 'NN'), (\"'\", \"''\"), ('failed', 'VBD'), ('to', 'TO'), ('materialise', 'VB'), (',', ','), ('still', 'RB'), ('the', 'DT'), ('people', 'NNS'), ('in', 'IN'), ('a', 'DT'), ('number', 'NN'), ('of', 'IN'), ('countries', 'NNS'), ('suffered', 'VBD'), ('a', 'DT'), ('series', 'NN'), ('of', 'IN'), ('natural', 'JJ'), ('disasters', 'NNS'), ('that', 'WDT'), ('truly', 'VBP'), ('were', 'VBD'), ('dreadful', 'JJ'), ('.', '.')]\n"
     ]
    }
   ],
   "source": [
    "print(tagged_words[1])"
   ]
  },
  {
   "cell_type": "code",
   "execution_count": 24,
   "metadata": {},
   "outputs": [],
   "source": [
    "content_words = [[tpl[0] for tpl in sent] for sent in tagged_content_words]"
   ]
  },
  {
   "cell_type": "code",
   "execution_count": 36,
   "metadata": {},
   "outputs": [
    {
     "name": "stdout",
     "output_type": "stream",
     "text": [
      "['have', 'seen', \"'millennium\", 'bug', 'failed', 'materialise', 'people', 'number', 'countries', 'suffered', 'series', 'disasters', 'truly', 'were']\n"
     ]
    }
   ],
   "source": [
    "print(content_words[1])"
   ]
  },
  {
   "cell_type": "code",
   "execution_count": 29,
   "metadata": {},
   "outputs": [],
   "source": [
    "flat_content_words = [word for sent in content_words for word in sent]"
   ]
  },
  {
   "cell_type": "code",
   "execution_count": 30,
   "metadata": {},
   "outputs": [],
   "source": [
    "fd = FreqDist(flat_content_words)"
   ]
  },
  {
   "cell_type": "code",
   "execution_count": 37,
   "metadata": {},
   "outputs": [
    {
     "data": {
      "text/plain": [
       "[('is', 805948),\n",
       " ('be', 429364),\n",
       " ('are', 357824),\n",
       " ('have', 340736),\n",
       " ('has', 221228),\n",
       " ('Mr', 188352),\n",
       " ('Commission', 170232),\n",
       " ('European', 154406),\n",
       " ('President', 135881),\n",
       " ('been', 128531),\n",
       " ('Union', 120945),\n",
       " ('Parliament', 118398),\n",
       " ('was', 107908),\n",
       " ('Member', 106902),\n",
       " ('report', 103690),\n",
       " ('States', 102769),\n",
       " ('Council', 98444),\n",
       " ('do', 97827),\n",
       " ('Europe', 91794),\n",
       " ('countries', 83204),\n",
       " ('EU', 82972),\n",
       " ('like', 76856),\n",
       " ('need', 72969),\n",
       " ('people', 70707),\n",
       " ('policy', 68271),\n",
       " ('time', 67643),\n",
       " ('am', 60606),\n",
       " ('support', 59628),\n",
       " ('take', 57268),\n",
       " ('make', 57139),\n",
       " ('work', 54448),\n",
       " ('rights', 52588),\n",
       " ('being', 51023),\n",
       " ('made', 48858),\n",
       " ('were', 48733),\n",
       " ('way', 47598),\n",
       " ('Commissioner', 47265),\n",
       " ('believe', 46897),\n",
       " ('say', 45001),\n",
       " ('proposal', 44042),\n",
       " ('fact', 43757),\n",
       " ('debate', 43587),\n",
       " ('market', 41319),\n",
       " ('think', 40518),\n",
       " ('Committee', 40314),\n",
       " ('development', 39859),\n",
       " ('issue', 39605),\n",
       " ('point', 39288),\n",
       " ('years', 39070),\n",
       " ('situation', 38034)]"
      ]
     },
     "execution_count": 37,
     "metadata": {},
     "output_type": "execute_result"
    }
   ],
   "source": [
    "fd.most_common(50)"
   ]
  },
  {
   "cell_type": "code",
   "execution_count": null,
   "metadata": {},
   "outputs": [],
   "source": []
  }
 ],
 "metadata": {
  "kernelspec": {
   "display_name": "Python 3",
   "language": "python",
   "name": "python3"
  },
  "language_info": {
   "codemirror_mode": {
    "name": "ipython",
    "version": 3
   },
   "file_extension": ".py",
   "mimetype": "text/x-python",
   "name": "python",
   "nbconvert_exporter": "python",
   "pygments_lexer": "ipython3",
   "version": "3.6.3"
  }
 },
 "nbformat": 4,
 "nbformat_minor": 2
}
